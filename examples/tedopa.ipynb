{
 "cells": [
  {
   "cell_type": "markdown",
   "metadata": {},
   "source": [
    "# TEDOPA\n",
    "\n",
    "This notebook explains the use of the functions in **tedopa.py**. The purpose of these functions is to map the Hamiltonian of an open quantum system, linearly coupled to an environment of continuous bosonic modes, to a one dimensional chain and then perform time evolution on it. In addition to reading this notebook, make sure to also have a look at the [introduction](https://github.com/MoritzLange/py-tedopa/blob/master/examples/introduction.ipynb)."
   ]
  },
  {
   "cell_type": "code",
   "execution_count": 1,
   "metadata": {},
   "outputs": [],
   "source": [
    "import numpy as np\n",
    "import matplotlib.pyplot as plt\n",
    "\n",
    "import mpnum as mp\n",
    "from tedopa import tmps\n",
    "from tedopa import tedopa as td\n"
   ]
  },
  {
   "cell_type": "markdown",
   "metadata": {},
   "source": [
    "## The full TEDOPA algorithm\n",
    "The functions `tedopa1`, for one site coupled to an environment, or `tedopa2`, for two coupled sites each coupled to an individual environment, are quite easy to use. The only work required by the user is to define the parameters for the simulation."
   ]
  },
  {
   "cell_type": "markdown",
   "metadata": {},
   "source": [
    "## `tedopa1`\n",
    "First, an initial state of system plus environment (as MPA) needs to be created. In this case it will be a system of one two-level-site, prepared as (1 &frasl; &radic;2) (&#8739;e&rang; + &#8739;g&rang;). The mapping within TEDOPA will map the Hamiltonian of the continuous environment to a discrete chain. With the initial state, the user can decide how long that chain should be, what the dimension (i.e. size of the state vector/density matrix) of each oscillator in the chain will be and what the ground state of the environment is. In our case, the chain will be 120 sites long, each oscillator has a dimension of 8 and the whole environment, i.e. each oscillator, is in ground state. The initial state is chosen to be an MPS. An MPO or PMPS could be used as well."
   ]
  },
  {
   "cell_type": "code",
   "execution_count": 2,
   "metadata": {},
   "outputs": [],
   "source": [
    "system_site = np.array([1 / np.sqrt(2), 1 / np.sqrt(2)])\n",
    "chain_element = np.array([1] + [0] * 7)  # => [1, 0, 0, 0, 0, 0, 0, 0]\n",
    "initial_state = mp.MPArray.from_kron([system_site] + [chain_element] * 120)\n",
    "initial_state = tmps.normalize(initial_state, 'mps')\n",
    "\n",
    "method = 'mps'"
   ]
  },
  {
   "cell_type": "markdown",
   "metadata": {},
   "source": [
    "Only the states (resulting ones as well as initial one) are represented as MPAs. All parts of the Hamiltonian are required as numpy matrices.\n",
    "The local Hamiltonian of our system is H<sub>loc</sub> = (E &frasl; 2)&sigma;<sub>z</sub>"
   ]
  },
  {
   "cell_type": "code",
   "execution_count": 3,
   "metadata": {},
   "outputs": [],
   "source": [
    "sz = np.array([[1, 0], [0, -1]])\n",
    "\n",
    "E = 1000\n",
    "h_loc = E / 2 * sz"
   ]
  },
  {
   "cell_type": "markdown",
   "metadata": {},
   "source": [
    "The matrix coupling system to environment is chosen to be A = (&#120128; + &sigma;<sub>z</sub>) &frasl; 4"
   ]
  },
  {
   "cell_type": "code",
   "execution_count": 4,
   "metadata": {},
   "outputs": [],
   "source": [
    "a = (np.identity(2) + sz) / 4"
   ]
  },
  {
   "cell_type": "markdown",
   "metadata": {},
   "source": [
    "Then a spectral density is required. It must be a Python lambda function. In our case, the considered domain is [0, g]. The parameter g is not only the upper bound for the spectral density, but is required as a prefactor for the recurrene coefficients, too. Because of that, it will also be passed seperately to `tedopa1`."
   ]
  },
  {
   "cell_type": "code",
   "execution_count": 5,
   "metadata": {},
   "outputs": [],
   "source": [
    "lambd = 75\n",
    "Omega = 150\n",
    "s = 2\n",
    "j = lambda x: lambd * ((x / Omega) ** s) * np.exp(-x / Omega)\n",
    "\n",
    "g = 2500\n",
    "domain = [0, g]"
   ]
  },
  {
   "cell_type": "markdown",
   "metadata": {},
   "source": [
    "In addition to above physical parameters, a few technical parameters for the simulation need to be defined as well. First of all the Trotter order 2 and 4 are currently implemented in py-tedopa. Also the number of Trotter slices must be chosen.\n",
    "\n",
    "The final time for the evolution will in our case be 0.2 (which corresponds to 0.2 * 5308 = 1061.6 femtoseconds, since the units of the input parameters are inverse cm). There are two lists of times for which a state is to be returned. One is `ts_full`, which specifies times for which the full state of system plus environment is to be returned. The return type will then be MPS, MPO or PMPS according to the method (= type of initial state) chosen. Also there is `ts_system` containing times for which only the reduced density matrix of the system will be returned. This information suffices in most cases and requires far less memory than storing the full state including environment. The returned state will then be an MPO if the chosen method was 'mps' or 'mpo'. It will be a PMPS if the method was chosen to be 'pmps'.\n",
    "\n",
    "In our case, the full state will never be returned and only the reduced states of the system will be stored after every couple of Trotter iterations and eventually returned as a list of MPOs."
   ]
  },
  {
   "cell_type": "code",
   "execution_count": 6,
   "metadata": {},
   "outputs": [],
   "source": [
    "trotter_order = 2\n",
    "num_slices = 150\n",
    "\n",
    "final_time = .2\n",
    "ts_full = []\n",
    "ts_system = np.linspace(0, final_time, 50)"
   ]
  },
  {
   "cell_type": "markdown",
   "metadata": {},
   "source": [
    "Furthermore, compression parameters for MPAs are to be defined. Within the code, they are passed directly to `mpnum` and hence need to be of the form required by `mpnum`. The parameter `compr` specifies how parts of the time evolution operator are compressed while it is calculated. This compression should be chosen as small as possible, see **Pitfalls** in the introduction notebook.\n",
    "\n",
    "The other compression, `trotter_compr`, is the one applied to the state after each Trotter iteration. This compression can be chosen to be larger. As a result the bond dimensions within the state stay small and calculations are faster. A smaller compression however will lead to higher accuracy of the result despite longer calculations due to higher bond dimensions."
   ]
  },
  {
   "cell_type": "code",
   "execution_count": 7,
   "metadata": {},
   "outputs": [],
   "source": [
    "compr = dict(method='svd', relerr=1e-10)\n",
    "trotter_compr = dict(method='svd', relerr=1e-4, rank=30)"
   ]
  },
  {
   "cell_type": "markdown",
   "metadata": {},
   "source": [
    "Last but not least the value of `ncap` needs to be defined. The higher it is, the more accurate will the recurrence coefficients needed for the mapping (and therefore the overall results) be. On the downside, a high value will lead to increased runtimes for the calculation of those coefficients at the beginning of the algorithm. The value must be inbetween the chain length and 60000. 20000 is a good starting point to get sufficiently accurate coefficients without spending too much time on calculating them. Also, the parameter `v`, for verbose, can be set to values between 0 and 3. 0 leads to no output at all, 1 will suffice to keep track of the progress, 2 enables the user to monitor bond dimensions of the state and 3 will lead to the program printing the bond dimensions of the state after every Trotter iteration."
   ]
  },
  {
   "cell_type": "code",
   "execution_count": 8,
   "metadata": {},
   "outputs": [],
   "source": [
    "ncap = 20000\n",
    "v = 1"
   ]
  },
  {
   "cell_type": "markdown",
   "metadata": {},
   "source": [
    "Now all parameters required by `tedopa1` are defined."
   ]
  },
  {
   "cell_type": "code",
   "execution_count": 9,
   "metadata": {},
   "outputs": [
    {
     "name": "stdout",
     "output_type": "stream",
     "text": [
      "Calculating the TEDOPA mapping...\n",
      "Proceeding to tmps...\n",
      "Time evolution operator for Trotter slice calculated, starting Trotter iterations...\n",
      "1 Trotter iterations finished...\n",
      "4 Trotter iterations finished...\n",
      "9 Trotter iterations finished...\n",
      "16 Trotter iterations finished...\n",
      "25 Trotter iterations finished...\n",
      "36 Trotter iterations finished...\n",
      "49 Trotter iterations finished...\n",
      "64 Trotter iterations finished...\n",
      "81 Trotter iterations finished...\n",
      "100 Trotter iterations finished...\n",
      "121 Trotter iterations finished...\n",
      "144 Trotter iterations finished...\n",
      "Done with time evolution\n"
     ]
    }
   ],
   "source": [
    "times, states = td.tedopa1(h_loc=h_loc,\n",
    "                           a=a,\n",
    "                           compr=compr,\n",
    "                           domain=domain,\n",
    "                           j=j,\n",
    "                           method=method,\n",
    "                           state=initial_state,\n",
    "                           trotter_compr=trotter_compr,\n",
    "                           ts_full=list(ts_full),\n",
    "                           ts_system=list(ts_system),\n",
    "                           g=g,\n",
    "                           trotter_order=trotter_order,\n",
    "                           num_trotter_slices=num_slices,\n",
    "                           ncap=ncap,\n",
    "                           v=v)"
   ]
  },
  {
   "cell_type": "markdown",
   "metadata": {},
   "source": [
    "With the resulting density matrices (of data type `mpnum.MPArray`), each representing the state at the respective time listed in `times`, the user can perform arbitrary analyses of the system. For example a nice plot of the absolute values of the expectation values of coherence of the two-level-system can be generated:"
   ]
  },
  {
   "cell_type": "code",
   "execution_count": 10,
   "metadata": {},
   "outputs": [
    {
     "data": {
      "image/png": "[encoded data removed]",
      "text/plain": [
       "<Figure size 432x288 with 1 Axes>"
      ]
     },
     "metadata": {},
     "output_type": "display_data"
    }
   ],
   "source": [
    "coherences = [mp.trace(mp.dot(state, tmps.matrix_to_mpo(\n",
    "                                        np.array([[0, 1], [0, 0]]), [[2, 2]])))\n",
    "              for state in states]\n",
    "times_in_fs = list(5308 * np.array(times))\n",
    "plt.plot(times_in_fs, np.abs(coherences))\n",
    "plt.xlabel(\"Time (fs)\")\n",
    "plt.ylabel(\"abs(Coherence)\")\n",
    "plt.grid()\n",
    "plt.show()"
   ]
  },
  {
   "cell_type": "markdown",
   "metadata": {},
   "source": [
    "## `tedopa2`\n",
    "Basically works exactly as `tedopa1`, just for a system comprised of two instead of one site. The only difference is that the local Hamiltonian of the system comprises two sites now, and that every parameter related to the environment of a system site needs to be passed once per system site (i.e. twice in total). This enables the user to choose distinct environments for each of the two system sites."
   ]
  },
  {
   "cell_type": "markdown",
   "metadata": {},
   "source": [
    "For a two-site system let's assume two two-level sites where the first site is initially in excited and the second in ground state. The chain is 100 oscillators per site long and the state is again represented as MPS."
   ]
  },
  {
   "cell_type": "code",
   "execution_count": 11,
   "metadata": {},
   "outputs": [],
   "source": [
    "system_site1 = np.array([1, 0])\n",
    "system_site2 = np.array([0, 1])\n",
    "chain_element = np.array([1] + [0] * 7)\n",
    "init_state = mp.MPArray.from_kron([chain_element] * 100 + [system_site1] + [\n",
    "    system_site2] + [chain_element] * 100)\n",
    "init_state = tmps.normalize(init_state, 'mps')\n",
    "\n",
    "method = 'mps'"
   ]
  },
  {
   "cell_type": "markdown",
   "metadata": {},
   "source": [
    "The local Hamiltonian is H<sub>loc</sub> = (e<sub>1</sub> &frasl; 2) (&sigma;<sub>z</sub> &otimes; &#120128;) + (e<sub>2</sub> &frasl; 2) (&#120128; &otimes; &sigma;<sub>z</sub>) + K (&sigma;<sub>+</sub> &otimes; &sigma;<sub>-</sub> + &sigma;<sub>-</sub> &otimes; &sigma;<sub>+</sub>), the coupling matrix A stays the same but the spectral density is different from the one chosen for the model for `tedopa1`."
   ]
  },
  {
   "cell_type": "code",
   "execution_count": 12,
   "metadata": {},
   "outputs": [],
   "source": [
    "sp = np.array([[0, 1], [0, 0]])  # sigma+\n",
    "sm = np.array([[0, 0], [1, 0]])  # sigma-\n",
    "\n",
    "e1 = 100\n",
    "e2 = 0\n",
    "K = 100\n",
    "g = 4000\n",
    "\n",
    "h_loc = e1 / 2 * np.kron(sz, np.identity(2)) + e2 / 2 * np.kron(np.identity(\n",
    "    2), sz) + K * np.kron(sp, sm) + K * np.kron(sm, sp)\n",
    "a = (np.identity(2) + sz) / 4\n",
    "\n",
    "lambd = 10\n",
    "gamma = 53\n",
    "j = lambda x: 8 * lambd * gamma * x / (x ** 2 + gamma ** 2)\n",
    "domain = [0, g]"
   ]
  },
  {
   "cell_type": "code",
   "execution_count": 13,
   "metadata": {},
   "outputs": [],
   "source": [
    "trotter_order = 2\n",
    "num_slices = 100\n",
    "\n",
    "final_time = 0.07\n",
    "ts_full = []\n",
    "ts_system = np.linspace(0, final_time, 50)\n",
    "\n",
    "compr = dict(method='svd', relerr=1e-10)\n",
    "trotter_compr = dict(method='svd', relerr=1e-4, rank=30)\n",
    "\n",
    "ncap = 20000\n",
    "v = 1"
   ]
  },
  {
   "cell_type": "markdown",
   "metadata": {},
   "source": [
    "Now all parameters are known in principle, but as mentioned before all environment related parameters need to be provided twice. Since both sites are chosen to have the exact same individual environment in this example, parameters like `a` and `j` can be passed as `[a]*2` or `[j]*2`.\n",
    "\n",
    "There is also one additional parameter, `sys_position`. It tells the algorithm where the system is located. It must be the chain length of the left part of the chain. That is 100 in our case."
   ]
  },
  {
   "cell_type": "code",
   "execution_count": 14,
   "metadata": {},
   "outputs": [
    {
     "name": "stdout",
     "output_type": "stream",
     "text": [
      "Calculating the TEDOPA mapping...\n",
      "Proceeding to tmps...\n",
      "Time evolution operator for Trotter slice calculated, starting Trotter iterations...\n",
      "1 Trotter iterations finished...\n",
      "4 Trotter iterations finished...\n",
      "9 Trotter iterations finished...\n",
      "16 Trotter iterations finished...\n",
      "25 Trotter iterations finished...\n",
      "36 Trotter iterations finished...\n",
      "49 Trotter iterations finished...\n",
      "64 Trotter iterations finished...\n",
      "81 Trotter iterations finished...\n",
      "100 Trotter iterations finished...\n",
      "Done with time evolution\n"
     ]
    }
   ],
   "source": [
    "times, states = td.tedopa2(h_loc=h_loc,\n",
    "                           a_twosite=[a] * 2,\n",
    "                           compr=compr,\n",
    "                           domains=[domain] * 2,\n",
    "                           js=[j] * 2,\n",
    "                           method=method,\n",
    "                           state=init_state,\n",
    "                           sys_position=100,\n",
    "                           trotter_compr=trotter_compr,\n",
    "                           ts_full=list(ts_full),\n",
    "                           ts_system=list(ts_system),\n",
    "                           gs=[g] * 2,\n",
    "                           trotter_order=trotter_order,\n",
    "                           num_trotter_slices=num_slices,\n",
    "                           ncap=ncap,\n",
    "                           v=v)"
   ]
  },
  {
   "cell_type": "markdown",
   "metadata": {},
   "source": [
    "The results are again density matrices of states, represented as MPOs. With these we can, for example, plot the expectation value of the population of the first site over time:"
   ]
  },
  {
   "cell_type": "code",
   "execution_count": 15,
   "metadata": {},
   "outputs": [
    {
     "data": {
      "image/png": "[encoded data removed]",
      "text/plain": [
       "<Figure size 432x288 with 1 Axes>"
      ]
     },
     "metadata": {},
     "output_type": "display_data"
    }
   ],
   "source": [
    "populations = [mp.trace(mp.partialdot(state, tmps.matrix_to_mpo(\n",
    "                    np.array([[1, 0], [0, 0]]), [[2, 2]]), 0))\n",
    "               for state in states]\n",
    "populations = np.real(populations)\n",
    "times = list(5308 * np.array(times))\n",
    "plt.plot(times, populations)\n",
    "plt.xlabel(\"Time (fs)\")\n",
    "plt.ylabel(\"Population\")\n",
    "plt.grid()\n",
    "plt.show()"
   ]
  }
 ],
 "metadata": {
  "kernelspec": {
   "display_name": "Python 3",
   "language": "python",
   "name": "python3"
  },
  "language_info": {
   "codemirror_mode": {
    "name": "ipython",
    "version": 3
   },
   "file_extension": ".py",
   "mimetype": "text/x-python",
   "name": "python",
   "nbconvert_exporter": "python",
   "pygments_lexer": "ipython3",
   "version": "3.6.5"
  }
 },
 "nbformat": 4,
 "nbformat_minor": 1
}
